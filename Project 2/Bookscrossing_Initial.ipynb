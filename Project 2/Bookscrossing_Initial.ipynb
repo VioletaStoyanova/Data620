{
 "cells": [
  {
   "cell_type": "markdown",
   "metadata": {},
   "source": [
    "# Project 2\n",
    "## Team Members \n",
    "Violeta Stoyanova\n",
    "Natalie Mollaghan\n",
    "Sudhan Maharjan\n",
    "\n",
    "Identify a large 2-node network dataset—you can start with a dataset in a repository. Your data should meet the criteria that it consists of ties between and not within two (or more) distinct groups.\n",
    "Reduce the size of the network using a method such as the island method described in chapter 4 of social network analysis.\n",
    "What can you infer about each of the distinct groups?\n",
    "\n",
    "## About the Network \n",
    "BookCrossing (ratings)\n",
    "This is the bipartite book rating network of the BookCrossing community. Rating values are integers between one and ten, where ten represents the best score. An edge shows that a user has rated a book. Nodes in the left column are users; nodes in the right column are books.\n",
    "\n",
    "Data Source: \thttp://www.informatik.uni-freiburg.de/~cziegler/BX/"
   ]
  },
  {
   "cell_type": "code",
   "execution_count": 58,
   "metadata": {},
   "outputs": [],
   "source": [
    "# Importing packages\n",
    "from networkx.algorithms import bipartite\n",
    "import pandas as pd\n",
    "import numpy as np\n",
    "import csv\n",
    "import os\n",
    "from pandas import DataFrame\n",
    "# Importing packages used to display images\n",
    "from PIL import Image\n",
    "import requests\n",
    "from io import BytesIO\n",
    "\n",
    "import matplotlib.pyplot as plt\n",
    "import networkx as nx\n",
    "import networkx.algorithms.bipartite as bipartite\n",
    "import matplotlib.colors as colors\n",
    "from networkx import *\n",
    "## Import bi-partite (bi-modal) functions\n",
    "from networkx.algorithms import bipartite as bi"
   ]
  },
  {
   "cell_type": "code",
   "execution_count": 12,
   "metadata": {},
   "outputs": [
    {
     "data": {
      "text/html": [
       "<div>\n",
       "<style scoped>\n",
       "    .dataframe tbody tr th:only-of-type {\n",
       "        vertical-align: middle;\n",
       "    }\n",
       "\n",
       "    .dataframe tbody tr th {\n",
       "        vertical-align: top;\n",
       "    }\n",
       "\n",
       "    .dataframe thead th {\n",
       "        text-align: right;\n",
       "    }\n",
       "</style>\n",
       "<table border=\"1\" class=\"dataframe\">\n",
       "  <thead>\n",
       "    <tr style=\"text-align: right;\">\n",
       "      <th></th>\n",
       "      <th>Users</th>\n",
       "      <th>Books</th>\n",
       "      <th>Weight</th>\n",
       "    </tr>\n",
       "  </thead>\n",
       "  <tbody>\n",
       "    <tr>\n",
       "      <th>0</th>\n",
       "      <td>1</td>\n",
       "      <td>1</td>\n",
       "      <td>5</td>\n",
       "    </tr>\n",
       "    <tr>\n",
       "      <th>1</th>\n",
       "      <td>2</td>\n",
       "      <td>2</td>\n",
       "      <td>3</td>\n",
       "    </tr>\n",
       "    <tr>\n",
       "      <th>2</th>\n",
       "      <td>2</td>\n",
       "      <td>3</td>\n",
       "      <td>6</td>\n",
       "    </tr>\n",
       "    <tr>\n",
       "      <th>3</th>\n",
       "      <td>3</td>\n",
       "      <td>4</td>\n",
       "      <td>8</td>\n",
       "    </tr>\n",
       "    <tr>\n",
       "      <th>4</th>\n",
       "      <td>4</td>\n",
       "      <td>5</td>\n",
       "      <td>6</td>\n",
       "    </tr>\n",
       "    <tr>\n",
       "      <th>5</th>\n",
       "      <td>5</td>\n",
       "      <td>6</td>\n",
       "      <td>7</td>\n",
       "    </tr>\n",
       "    <tr>\n",
       "      <th>6</th>\n",
       "      <td>6</td>\n",
       "      <td>7</td>\n",
       "      <td>10</td>\n",
       "    </tr>\n",
       "    <tr>\n",
       "      <th>7</th>\n",
       "      <td>7</td>\n",
       "      <td>8</td>\n",
       "      <td>9</td>\n",
       "    </tr>\n",
       "    <tr>\n",
       "      <th>8</th>\n",
       "      <td>7</td>\n",
       "      <td>9</td>\n",
       "      <td>9</td>\n",
       "    </tr>\n",
       "    <tr>\n",
       "      <th>9</th>\n",
       "      <td>7</td>\n",
       "      <td>10</td>\n",
       "      <td>8</td>\n",
       "    </tr>\n",
       "  </tbody>\n",
       "</table>\n",
       "</div>"
      ],
      "text/plain": [
       "   Users  Books  Weight\n",
       "0      1      1       5\n",
       "1      2      2       3\n",
       "2      2      3       6\n",
       "3      3      4       8\n",
       "4      4      5       6\n",
       "5      5      6       7\n",
       "6      6      7      10\n",
       "7      7      8       9\n",
       "8      7      9       9\n",
       "9      7     10       8"
      ]
     },
     "execution_count": 12,
     "metadata": {},
     "output_type": "execute_result"
    }
   ],
   "source": [
    "data = pd.read_csv(\"C:\\\\Users\\\\Violet\\\\Desktop\\\\out.bookcrossing_rating_rating\", sep=\" \",header=None)\n",
    "data.columns=['Users','Books','Weight']\n",
    "data.head(10)"
   ]
  },
  {
   "cell_type": "code",
   "execution_count": 13,
   "metadata": {},
   "outputs": [],
   "source": [
    "def nx_graph_from_biadjacency_pandas_df(df):\n",
    "    B = nx.Graph()\n",
    "    for i in df.index:\n",
    "        B.add_node(i, bipartite=0)\n",
    "        for j in df.columns:\n",
    "            B.add_node(j, bipartite=1)\n",
    "            if (df.ix[i,j] > 0):\n",
    "                B.add_edge(i, j, weight=df.ix[i,j])\n",
    "    return B"
   ]
  },
  {
   "cell_type": "code",
   "execution_count": 14,
   "metadata": {},
   "outputs": [
    {
     "name": "stderr",
     "output_type": "stream",
     "text": [
      "C:\\Users\\Violet\\Anaconda3\\lib\\site-packages\\ipykernel_launcher.py:7: DeprecationWarning: \n",
      ".ix is deprecated. Please use\n",
      ".loc for label based indexing or\n",
      ".iloc for positional indexing\n",
      "\n",
      "See the documentation here:\n",
      "http://pandas.pydata.org/pandas-docs/stable/indexing.html#ix-indexer-is-deprecated\n",
      "  import sys\n",
      "C:\\Users\\Violet\\Anaconda3\\lib\\site-packages\\ipykernel_launcher.py:8: DeprecationWarning: \n",
      ".ix is deprecated. Please use\n",
      ".loc for label based indexing or\n",
      ".iloc for positional indexing\n",
      "\n",
      "See the documentation here:\n",
      "http://pandas.pydata.org/pandas-docs/stable/indexing.html#ix-indexer-is-deprecated\n",
      "  \n"
     ]
    }
   ],
   "source": [
    "B = nx_graph_from_biadjacency_pandas_df(data)"
   ]
  },
  {
   "cell_type": "code",
   "execution_count": 15,
   "metadata": {},
   "outputs": [
    {
     "data": {
      "text/plain": [
       "True"
      ]
     },
     "execution_count": 15,
     "metadata": {},
     "output_type": "execute_result"
    }
   ],
   "source": [
    "nx.is_connected(B)"
   ]
  },
  {
   "cell_type": "code",
   "execution_count": 16,
   "metadata": {},
   "outputs": [],
   "source": [
    "bottom_nodes, top_nodes = bipartite.sets(B)"
   ]
  },
  {
   "cell_type": "code",
   "execution_count": 17,
   "metadata": {},
   "outputs": [
    {
     "name": "stdout",
     "output_type": "stream",
     "text": [
      "Name: \n",
      "Type: Graph\n",
      "Number of nodes: 433655\n",
      "Number of edges: 1300956\n",
      "Average degree:   6.0000\n"
     ]
    }
   ],
   "source": [
    "print(nx.info(B))"
   ]
  },
  {
   "cell_type": "code",
   "execution_count": 18,
   "metadata": {},
   "outputs": [],
   "source": [
    "users = top_nodes\n",
    "books = bottom_nodes"
   ]
  },
  {
   "cell_type": "code",
   "execution_count": 19,
   "metadata": {},
   "outputs": [
    {
     "name": "stdout",
     "output_type": "stream",
     "text": [
      "Biadjacency matrix\n",
      "  (0, 0)\t1\n",
      "  (0, 1)\t2\n",
      "  (0, 2)\t2\n",
      "  (0, 3)\t3\n",
      "  (0, 4)\t4\n",
      "  (0, 5)\t5\n",
      "  (0, 6)\t6\n",
      "  (0, 7)\t7\n",
      "  (0, 8)\t7\n",
      "  (0, 9)\t7\n",
      "  (0, 10)\t7\n",
      "  (0, 11)\t7\n",
      "  (0, 12)\t8\n",
      "  (0, 13)\t9\n",
      "  (0, 14)\t10\n",
      "  (0, 15)\t11\n",
      "  (0, 16)\t12\n",
      "  (0, 17)\t13\n",
      "  (0, 18)\t13\n",
      "  (0, 19)\t13\n",
      "  (0, 20)\t13\n",
      "  (0, 21)\t14\n",
      "  (0, 22)\t15\n",
      "  (0, 23)\t15\n",
      "  (0, 24)\t15\n",
      "  :\t:\n",
      "  (2, 433627)\t10\n",
      "  (2, 433628)\t6\n",
      "  (2, 433629)\t7\n",
      "  (2, 433630)\t7\n",
      "  (2, 433631)\t6\n",
      "  (2, 433632)\t2\n",
      "  (2, 433633)\t6\n",
      "  (2, 433634)\t10\n",
      "  (2, 433635)\t10\n",
      "  (2, 433636)\t8\n",
      "  (2, 433637)\t10\n",
      "  (2, 433638)\t7\n",
      "  (2, 433639)\t10\n",
      "  (2, 433640)\t10\n",
      "  (2, 433641)\t10\n",
      "  (2, 433642)\t6\n",
      "  (2, 433643)\t7\n",
      "  (2, 433644)\t6\n",
      "  (2, 433645)\t5\n",
      "  (2, 433646)\t7\n",
      "  (2, 433647)\t5\n",
      "  (2, 433648)\t9\n",
      "  (2, 433649)\t10\n",
      "  (2, 433650)\t10\n",
      "  (2, 433651)\t8\n"
     ]
    }
   ],
   "source": [
    "# Creates a new bipartite graph from a biadjacency matrix given as a SciPy sparse matrix.\n",
    "print(\"Biadjacency matrix\")\n",
    "print(bipartite.biadjacency_matrix(B, users, books))"
   ]
  },
  {
   "cell_type": "markdown",
   "metadata": {},
   "source": [
    "Implement the Island Method\n",
    "\n",
    "The first thing we need to implement for the island method is a function to virtually raise the water level. The function below takes a graph, and applies a threshold (“water level”), letting all edges above a certain value through, and removing all others.\n",
    "\n",
    "Then define how the water level should be raised. Compute evenly spaced thresholds and produce a list of networks at each water level:"
   ]
  },
  {
   "cell_type": "code",
   "execution_count": 71,
   "metadata": {},
   "outputs": [
    {
     "data": {
      "text/plain": [
       "[3, 433652]"
      ]
     },
     "execution_count": 71,
     "metadata": {},
     "output_type": "execute_result"
    }
   ],
   "source": [
    "[len(users),len(books)]\n"
   ]
  },
  {
   "cell_type": "code",
   "execution_count": 72,
   "metadata": {},
   "outputs": [],
   "source": [
    "U= bi.projected_graph(B, users)"
   ]
  },
  {
   "cell_type": "code",
   "execution_count": 73,
   "metadata": {},
   "outputs": [
    {
     "data": {
      "text/plain": [
       "1"
      ]
     },
     "execution_count": 73,
     "metadata": {},
     "output_type": "execute_result"
    }
   ],
   "source": [
    "#check the number of subgraphs\n",
    "len(list(nx.connected_component_subgraphs(U)))"
   ]
  },
  {
   "cell_type": "code",
   "execution_count": 77,
   "metadata": {},
   "outputs": [],
   "source": [
    "def trim_edges(g, weight=1):\n",
    "   \"\"\"Method from Social Network Analysis for Startups\"\"\"\n",
    "   \n",
    "   g2=nx.Graph()\n",
    "   for f, to , edata in e.edges(data=True):\n",
    "     if edata['weight'] > weight:\n",
    "       g2.add_edge(f, to, edata)\n",
    "     \n",
    "   return g2"
   ]
  },
  {
   "cell_type": "markdown",
   "metadata": {},
   "source": [
    "Now, let’s define how the water level should be raised. We will compute evenly spaced thresholds and produce a list of networks at each water level:"
   ]
  },
  {
   "cell_type": "code",
   "execution_count": 65,
   "metadata": {},
   "outputs": [],
   "source": [
    "#This function will return a list of graph objects, each corresponding to a specific water level.\n",
    "def island_method(g, iterations=5):\n",
    "    weights= [edata['weight'] for f,to,edata in g.edges(data=True)]\n",
    "\n",
    "    mn=int(min(weights))\n",
    "    mx=int(max(weights))\n",
    "    #compute the size of the step, so we get a reasonable step in iterations\n",
    "    step=int((mx-mn)/iterations)\n",
    "\n",
    "    return [[threshold, trim_edges(g, threshold)] for threshold in range(mn,mx,step)]"
   ]
  },
  {
   "cell_type": "code",
   "execution_count": 67,
   "metadata": {},
   "outputs": [
    {
     "ename": "SyntaxError",
     "evalue": "invalid syntax (<ipython-input-67-2a6bccf586d4>, line 5)",
     "output_type": "error",
     "traceback": [
      "\u001b[1;36m  File \u001b[1;32m\"<ipython-input-67-2a6bccf586d4>\"\u001b[1;36m, line \u001b[1;32m5\u001b[0m\n\u001b[1;33m    print i[0], len(i[1]), len(nx.connected_component_subgraphs(i[1]))\u001b[0m\n\u001b[1;37m          ^\u001b[0m\n\u001b[1;31mSyntaxError\u001b[0m\u001b[1;31m:\u001b[0m invalid syntax\n"
     ]
    }
   ],
   "source": [
    "cc=nx.connected_component_subgraphs(B)[0]\n",
    "islands=island_method(cc)\n",
    "for i in islands:\n",
    "    # print the threshold level, size of the graph, and number of connected components\n",
    "    print i[0], len(i[1]), len(nx.connected_component_subgraphs(i[1]))\n"
   ]
  },
  {
   "cell_type": "code",
   "execution_count": 76,
   "metadata": {},
   "outputs": [
    {
     "data": {
      "image/png": "[encoded data removed]",
      "text/plain": [
       "<Figure size 720x720 with 1 Axes>"
      ]
     },
     "metadata": {
      "needs_background": "light"
     },
     "output_type": "display_data"
    }
   ],
   "source": [
    "plt.figure(figsize = (10, 10))\n",
    "pos = dict()\n",
    "pos.update( (n, (1, i*10)) for i, n in enumerate(women) ) # put nodes from Users at x=1\n",
    "pos.update( (n, (3, i*10)) for i, n in enumerate(clubs) ) # put nodes from Books at x=2\n",
    "nx.draw_networkx(G, pos=pos, with_labels=True)"
   ]
  },
  {
   "cell_type": "markdown",
   "metadata": {},
   "source": [
    "Unfortunately, we were unsuccessful in implementing the island method because of the dataset. "
   ]
  },
  {
   "cell_type": "code",
   "execution_count": null,
   "metadata": {},
   "outputs": [],
   "source": []
  }
 ],
 "metadata": {
  "kernelspec": {
   "display_name": "Python 3",
   "language": "python",
   "name": "python3"
  },
  "language_info": {
   "codemirror_mode": {
    "name": "ipython",
    "version": 3
   },
   "file_extension": ".py",
   "mimetype": "text/x-python",
   "name": "python",
   "nbconvert_exporter": "python",
   "pygments_lexer": "ipython3",
   "version": "3.7.0"
  }
 },
 "nbformat": 4,
 "nbformat_minor": 2
}
