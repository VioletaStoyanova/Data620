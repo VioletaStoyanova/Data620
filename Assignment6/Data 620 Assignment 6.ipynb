{
 "cells": [
  {
   "cell_type": "markdown",
   "metadata": {},
   "source": [
    "# Assignment 6\n",
    "Violet Stoyanova \n",
    "\n",
    "Natalie Mollaghan \n",
    "\n",
    "Sudhan Maharjan\n",
    "\n",
    "In this week's assignment, you are asked to analyze high frequency words.\n",
    "\n",
    "Please answer the fo llowing questions in an Jupyter Notebook, posted to GitHub.\n",
    "\n",
    "Choose a corpus of interest.\n",
    "How many total unique words are in the corpus? (Please feel free to define unique words in any interesting, defensible way).\n",
    "Taking the most common words, how many unique words represent half of the total words in the corpus?Identify the 200 highest frequency words in this corpus.\n",
    "Create a graph that shows the relative frequency of these 200 words.\n",
    "Does the observed relative frequency of these words follow Zipf’s law? Explain.\n",
    "In what ways do you think the frequency of the words in this corpus differ from “all words in all corpora.”"
   ]
  },
  {
   "cell_type": "markdown",
   "metadata": {},
   "source": [
    "import nltk\n",
    "nltk.download('gutenberg')\n",
    "nltk.download('stopwords')\n",
    "%matplotlib inline\n",
    "import pandas as pd\n",
    "import seaborn as sns"
   ]
  },
  {
   "cell_type": "markdown",
   "metadata": {},
   "source": [
    "## Choosing the corpus \n",
    "\n",
    "NLTK includes a small selection of texts from the Project Gutenberg electronic text archive, which contains some 25,000 free electronic books, hosted at http://www.gutenberg.org/."
   ]
  },
  {
   "cell_type": "code",
   "execution_count": 4,
   "metadata": {},
   "outputs": [
    {
     "data": {
      "text/plain": [
       "['austen-emma.txt',\n",
       " 'austen-persuasion.txt',\n",
       " 'austen-sense.txt',\n",
       " 'bible-kjv.txt',\n",
       " 'blake-poems.txt',\n",
       " 'bryant-stories.txt',\n",
       " 'burgess-busterbrown.txt',\n",
       " 'carroll-alice.txt',\n",
       " 'chesterton-ball.txt',\n",
       " 'chesterton-brown.txt',\n",
       " 'chesterton-thursday.txt',\n",
       " 'edgeworth-parents.txt',\n",
       " 'melville-moby_dick.txt',\n",
       " 'milton-paradise.txt',\n",
       " 'shakespeare-caesar.txt',\n",
       " 'shakespeare-hamlet.txt',\n",
       " 'shakespeare-macbeth.txt',\n",
       " 'whitman-leaves.txt']"
      ]
     },
     "execution_count": 4,
     "metadata": {},
     "output_type": "execute_result"
    }
   ],
   "source": [
    "nltk.corpus.gutenberg.fileids()"
   ]
  },
  {
   "cell_type": "markdown",
   "metadata": {},
   "source": [
    "We picked Alice from all the texts in the corpus"
   ]
  },
  {
   "cell_type": "code",
   "execution_count": 5,
   "metadata": {},
   "outputs": [],
   "source": [
    "alice = nltk.corpus.gutenberg.words('carroll-alice.txt')"
   ]
  },
  {
   "cell_type": "code",
   "execution_count": 6,
   "metadata": {},
   "outputs": [
    {
     "data": {
      "text/plain": [
       "34110"
      ]
     },
     "execution_count": 6,
     "metadata": {},
     "output_type": "execute_result"
    }
   ],
   "source": [
    "len(alice)"
   ]
  },
  {
   "cell_type": "code",
   "execution_count": 7,
   "metadata": {},
   "outputs": [],
   "source": [
    "# strip punctuation and numerics using isalpha() method\n",
    "alice_2 = [w for w in alice if w.isalpha()]"
   ]
  },
  {
   "cell_type": "code",
   "execution_count": 8,
   "metadata": {},
   "outputs": [
    {
     "data": {
      "text/plain": [
       "27333"
      ]
     },
     "execution_count": 8,
     "metadata": {},
     "output_type": "execute_result"
    }
   ],
   "source": [
    "# checking to make sure that the strip worked\n",
    "len(alice_2)"
   ]
  },
  {
   "cell_type": "code",
   "execution_count": 11,
   "metadata": {},
   "outputs": [],
   "source": [
    "from nltk.corpus import stopwords\n",
    "alice_3 = [w for w in alice_2 if w not in stopwords.words('english')]"
   ]
  },
  {
   "cell_type": "code",
   "execution_count": 12,
   "metadata": {},
   "outputs": [
    {
     "data": {
      "text/plain": [
       "13945"
      ]
     },
     "execution_count": 12,
     "metadata": {},
     "output_type": "execute_result"
    }
   ],
   "source": [
    "#checking to make sure that the stopwords worked\n",
    "len(alice_3)"
   ]
  },
  {
   "cell_type": "code",
   "execution_count": 13,
   "metadata": {},
   "outputs": [
    {
     "data": {
      "text/plain": [
       "3016"
      ]
     },
     "execution_count": 13,
     "metadata": {},
     "output_type": "execute_result"
    }
   ],
   "source": [
    "# figure out the number of unique words in alice\n",
    "alice_4 = set(alice)\n",
    "len(alice_4)"
   ]
  },
  {
   "cell_type": "code",
   "execution_count": 17,
   "metadata": {},
   "outputs": [
    {
     "data": {
      "text/plain": [
       "1508.0"
      ]
     },
     "execution_count": 17,
     "metadata": {},
     "output_type": "execute_result"
    }
   ],
   "source": [
    "#the number of unique words that represent half of the total words in the corpus\n",
    "len(alice_4)/2"
   ]
  },
  {
   "cell_type": "code",
   "execution_count": 18,
   "metadata": {},
   "outputs": [
    {
     "data": {
      "image/png": "[encoded data removed]",
      "text/plain": [
       "<Figure size 432x288 with 1 Axes>"
      ]
     },
     "metadata": {
      "needs_background": "light"
     },
     "output_type": "display_data"
    }
   ],
   "source": [
    "freq = nltk.FreqDist(alice_3)\n",
    "#generate a cumulative frequency plot\n",
    "freq.plot(60, cumulative=True)"
   ]
  },
  {
   "cell_type": "markdown",
   "metadata": {},
   "source": [
    "Half of all words are 1508. The cumulative curve shows that about 60 unique words account for half of all words."
   ]
  },
  {
   "cell_type": "code",
   "execution_count": 15,
   "metadata": {},
   "outputs": [
    {
     "name": "stdout",
     "output_type": "stream",
     "text": [
      "I;543\n",
      "said;456\n",
      "Alice;396\n",
      "little;125\n",
      "The;108\n",
      "one;94\n",
      "know;87\n",
      "like;84\n",
      "went;83\n",
      "thought;74\n",
      "Queen;74\n",
      "could;73\n",
      "would;70\n",
      "time;68\n",
      "And;67\n",
      "see;66\n",
      "It;64\n",
      "King;61\n",
      "Turtle;59\n",
      "began;58\n",
      "way;56\n",
      "Mock;56\n",
      "Hatter;55\n",
      "Gryphon;55\n",
      "quite;53\n",
      "much;51\n",
      "say;51\n",
      "You;51\n",
      "think;50\n",
      "head;50\n",
      "thing;49\n",
      "go;47\n",
      "voice;47\n",
      "Rabbit;45\n",
      "looked;45\n",
      "got;45\n",
      "get;44\n",
      "first;44\n",
      "never;42\n",
      "What;42\n",
      "Duchess;42\n",
      "must;41\n",
      "round;41\n",
      "well;40\n",
      "came;40\n",
      "tone;40\n",
      "Dormouse;40\n",
      "She;39\n",
      "great;39\n",
      "back;38\n",
      "But;37\n",
      "Oh;35\n",
      "March;34\n",
      "There;33\n",
      "large;33\n",
      "two;32\n",
      "looking;32\n",
      "last;32\n",
      "moment;31\n",
      "put;31\n",
      "things;31\n",
      "long;31\n",
      "Hare;31\n",
      "nothing;30\n",
      "made;30\n",
      "found;30\n",
      "right;30\n",
      "door;30\n",
      "heard;30\n",
      "Mouse;30\n",
      "day;29\n",
      "eyes;29\n",
      "replied;29\n",
      "dear;28\n",
      "look;28\n",
      "next;28\n",
      "might;28\n",
      "three;28\n",
      "So;27\n",
      "seemed;27\n",
      "going;27\n",
      "make;27\n",
      "How;27\n",
      "Why;27\n",
      "tell;27\n",
      "That;27\n",
      "Caterpillar;27\n",
      "without;26\n",
      "upon;26\n",
      "good;26\n",
      "course;26\n",
      "Cat;26\n",
      "come;25\n",
      "rather;25\n",
      "away;25\n",
      "poor;25\n",
      "soon;24\n",
      "shall;23\n",
      "took;23\n",
      "Well;23\n",
      "felt;23\n",
      "added;23\n",
      "getting;22\n",
      "White;22\n",
      "another;22\n",
      "half;22\n",
      "jury;22\n",
      "words;21\n",
      "wish;21\n",
      "find;21\n",
      "Come;21\n",
      "minute;21\n",
      "They;21\n",
      "till;21\n",
      "yet;21\n",
      "Then;21\n",
      "sort;20\n",
      "No;20\n",
      "hand;20\n",
      "ever;20\n",
      "cried;20\n",
      "sure;20\n",
      "He;20\n",
      "feet;19\n",
      "tried;19\n",
      "anything;19\n",
      "curious;19\n",
      "use;18\n",
      "take;18\n",
      "wonder;18\n",
      "house;18\n",
      "tea;18\n",
      "enough;18\n",
      "A;17\n",
      "even;17\n",
      "end;17\n",
      "spoke;17\n",
      "eat;17\n",
      "question;17\n",
      "side;17\n",
      "table;17\n",
      "sat;17\n",
      "As;17\n",
      "something;17\n",
      "old;17\n",
      "This;17\n",
      "asked;17\n",
      "court;17\n",
      "ran;16\n",
      "talking;16\n",
      "bit;16\n",
      "turned;16\n",
      "garden;16\n",
      "hastily;16\n",
      "If;16\n",
      "Bill;16\n",
      "seen;15\n",
      "idea;15\n",
      "air;15\n",
      "saying;15\n",
      "low;15\n",
      "high;15\n",
      "indeed;15\n",
      "face;15\n",
      "Who;15\n",
      "done;15\n",
      "YOU;15\n",
      "called;15\n",
      "arm;15\n",
      "beginning;14\n",
      "hear;14\n",
      "ought;14\n",
      "saw;14\n",
      "near;14\n",
      "perhaps;14\n",
      "Dinah;14\n",
      "remember;14\n",
      "mouse;14\n",
      "trying;14\n",
      "left;14\n",
      "anxiously;14\n",
      "set;14\n",
      "knew;14\n",
      "sea;14\n",
      "talk;14\n",
      "us;14\n",
      "better;14\n",
      "baby;14\n",
      "mad;14\n",
      "close;13\n",
      "VERY;13\n",
      "people;13\n",
      "Do;13\n",
      "cats;13\n",
      "behind;13\n",
      "However;13\n",
      "For;13\n",
      "certainly;13\n",
      "THAT;13\n",
      "size;13\n"
     ]
    }
   ],
   "source": [
    "#the 200 highest frequency words in the corpus \n",
    "for word, frequency in freq.most_common(200):\n",
    "    print(u'{};{}'.format(word, frequency))"
   ]
  },
  {
   "cell_type": "code",
   "execution_count": 16,
   "metadata": {},
   "outputs": [
    {
     "data": {
      "image/png": "[encoded data removed]",
      "text/plain": [
       "<Figure size 432x288 with 1 Axes>"
      ]
     },
     "metadata": {
      "needs_background": "light"
     },
     "output_type": "display_data"
    }
   ],
   "source": [
    "#graph that shows the relative frequency of these 200 words.\n",
    "freq.plot(200, cumulative=True)"
   ]
  },
  {
   "cell_type": "markdown",
   "metadata": {},
   "source": [
    "Zipf's law states that given a large sample of words used, the frequency of any word is inversely proportional to its rank in the frequency table. So word number n has a frequency proportional to 1/n.\n",
    "Thus the most frequent word will occur about twice as often as the second most frequent word, three times as often as the third most frequent word, etc.\n",
    "\n",
    "\n",
    "Based on the shape of the chart above which shows frequency vs. rank it appears to follow Zipf's law. ThisS law holds for all words in all corpora. The only differences are the words themselves-- they differ based on the content of the corpus being analyzed."
   ]
  },
  {
   "cell_type": "code",
   "execution_count": null,
   "metadata": {},
   "outputs": [],
   "source": []
  }
 ],
 "metadata": {
  "kernelspec": {
   "display_name": "Python 3",
   "language": "python",
   "name": "python3"
  },
  "language_info": {
   "codemirror_mode": {
    "name": "ipython",
    "version": 3
   },
   "file_extension": ".py",
   "mimetype": "text/x-python",
   "name": "python",
   "nbconvert_exporter": "python",
   "pygments_lexer": "ipython3",
   "version": "3.7.0"
  }
 },
 "nbformat": 4,
 "nbformat_minor": 2
}
